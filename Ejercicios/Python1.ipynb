{
 "cells": [
  {
   "cell_type": "code",
   "execution_count": null,
   "id": "09476dc2",
   "metadata": {},
   "outputs": [],
   "source": [
    "#VARIABLES\n",
    "text = \"Hello world\""
   ]
  },
  {
   "cell_type": "code",
   "execution_count": 6,
   "id": "5c0acae9",
   "metadata": {},
   "outputs": [],
   "source": [
    "B= 5"
   ]
  },
  {
   "cell_type": "code",
   "execution_count": 7,
   "id": "74008061",
   "metadata": {},
   "outputs": [
    {
     "name": "stdout",
     "output_type": "stream",
     "text": [
      "Hi world\n"
     ]
    }
   ],
   "source": [
    "#Remplazando string \n",
    "text = \"Hello world\"\n",
    "text = text.replace(\"Hello\", \"Hi\")\n",
    "print(text)\n"
   ]
  },
  {
   "cell_type": "code",
   "execution_count": null,
   "id": "8c379099",
   "metadata": {},
   "outputs": [
    {
     "data": {
      "text/plain": [
       "0"
      ]
     },
     "execution_count": 17,
     "metadata": {},
     "output_type": "execute_result"
    }
   ],
   "source": [
    "# Encontrar posicion String\n",
    "text = \"Hello world\"\n",
    "text.index(\"w\") \n",
    "text.find(\"H\")"
   ]
  },
  {
   "cell_type": "code",
   "execution_count": 19,
   "id": "e9cae6cf",
   "metadata": {},
   "outputs": [
    {
     "data": {
      "text/plain": [
       "7"
      ]
     },
     "execution_count": 19,
     "metadata": {},
     "output_type": "execute_result"
    }
   ],
   "source": [
    "text.index('o', 6)  # Arroja error"
   ]
  },
  {
   "cell_type": "code",
   "execution_count": 20,
   "id": "5b7d7264",
   "metadata": {},
   "outputs": [
    {
     "data": {
      "text/plain": [
       "'H'"
      ]
     },
     "execution_count": 20,
     "metadata": {},
     "output_type": "execute_result"
    }
   ],
   "source": [
    "# Parte de un string\n",
    "text[0]"
   ]
  },
  {
   "cell_type": "code",
   "execution_count": 21,
   "id": "84730d4b",
   "metadata": {},
   "outputs": [
    {
     "data": {
      "text/plain": [
       "'l'"
      ]
     },
     "execution_count": 21,
     "metadata": {},
     "output_type": "execute_result"
    }
   ],
   "source": [
    "text[-2]"
   ]
  },
  {
   "cell_type": "code",
   "execution_count": 26,
   "id": "bda35350",
   "metadata": {},
   "outputs": [
    {
     "data": {
      "text/plain": [
       "'o worl'"
      ]
     },
     "execution_count": 26,
     "metadata": {},
     "output_type": "execute_result"
    }
   ],
   "source": [
    "# hello world\n",
    "# 012345678910\n",
    "text[4:-1]"
   ]
  },
  {
   "cell_type": "code",
   "execution_count": 24,
   "id": "07d7af15",
   "metadata": {},
   "outputs": [
    {
     "data": {
      "text/plain": [
       "'olleH'"
      ]
     },
     "execution_count": 24,
     "metadata": {},
     "output_type": "execute_result"
    }
   ],
   "source": [
    "text[4::-1]"
   ]
  },
  {
   "cell_type": "code",
   "execution_count": 25,
   "id": "d1917872",
   "metadata": {},
   "outputs": [
    {
     "data": {
      "text/plain": [
       "'dlrow olleH'"
      ]
     },
     "execution_count": 25,
     "metadata": {},
     "output_type": "execute_result"
    }
   ],
   "source": [
    "text[::-1]"
   ]
  },
  {
   "cell_type": "code",
   "execution_count": 30,
   "id": "2c79df74",
   "metadata": {},
   "outputs": [
    {
     "data": {
      "text/plain": [
       "'00)Hello world'"
      ]
     },
     "execution_count": 30,
     "metadata": {},
     "output_type": "execute_result"
    }
   ],
   "source": [
    "# Llamada a una cadena\n",
    "text1 = \"(00)Hello world)\"\n",
    "text1.strip('(), ')"
   ]
  },
  {
   "cell_type": "code",
   "execution_count": null,
   "id": "1d483ccf",
   "metadata": {},
   "outputs": [
    {
     "data": {
      "text/plain": [
       "'Hola   Juan Perez  , este es el curso Topicos Especiales de BI'"
      ]
     },
     "execution_count": 31,
     "metadata": {},
     "output_type": "execute_result"
    }
   ],
   "source": [
    "nombre = \"  Yoel Fernandezl       \"\n",
    "curso = \"Topicos Especiales de BI\"\n",
    "f'Hola {nombre}, este es el curso {curso}'"
   ]
  },
  {
   "cell_type": "code",
   "execution_count": 36,
   "id": "837a9615",
   "metadata": {},
   "outputs": [],
   "source": [
    "numero = 5\n",
    "texto = \"El numero es: \"\n"
   ]
  },
  {
   "cell_type": "code",
   "execution_count": 33,
   "id": "32303e81",
   "metadata": {},
   "outputs": [
    {
     "data": {
      "text/plain": [
       "'ABCDEFGHIJKLMNOPQRSTUVWXYZ'"
      ]
     },
     "execution_count": 33,
     "metadata": {},
     "output_type": "execute_result"
    }
   ],
   "source": [
    "import string \n",
    "string.ascii_lowercase\n",
    "string.ascii_uppercase"
   ]
  },
  {
   "cell_type": "code",
   "execution_count": 34,
   "id": "8aa0fb39",
   "metadata": {},
   "outputs": [
    {
     "data": {
      "text/plain": [
       "'abcdefghijklmnopqrstuvwxyzABCDEFGHIJKLMNOPQRSTUVWXYZ'"
      ]
     },
     "execution_count": 34,
     "metadata": {},
     "output_type": "execute_result"
    }
   ],
   "source": [
    "string.ascii_letters"
   ]
  },
  {
   "cell_type": "code",
   "execution_count": null,
   "id": "ba625681",
   "metadata": {},
   "outputs": [
    {
     "ename": "AttributeError",
     "evalue": "'int' object has no attribute 'isalnum'",
     "output_type": "error",
     "traceback": [
      "\u001b[31m---------------------------------------------------------------------------\u001b[39m",
      "\u001b[31mAttributeError\u001b[39m                            Traceback (most recent call last)",
      "\u001b[36mCell\u001b[39m\u001b[36m \u001b[39m\u001b[32mIn[39]\u001b[39m\u001b[32m, line 1\u001b[39m\n\u001b[32m----> \u001b[39m\u001b[32m1\u001b[39m \u001b[43mnumero\u001b[49m\u001b[43m.\u001b[49m\u001b[43misalnum\u001b[49m()\n",
      "\u001b[31mAttributeError\u001b[39m: 'int' object has no attribute 'isalnum'"
     ]
    }
   ],
   "source": [
    "()\n"
   ]
  }
 ],
 "metadata": {
  "kernelspec": {
   "display_name": "myenv",
   "language": "python",
   "name": "python3"
  },
  "language_info": {
   "codemirror_mode": {
    "name": "ipython",
    "version": 3
   },
   "file_extension": ".py",
   "mimetype": "text/x-python",
   "name": "python",
   "nbconvert_exporter": "python",
   "pygments_lexer": "ipython3",
   "version": "3.13.2"
  }
 },
 "nbformat": 4,
 "nbformat_minor": 5
}
