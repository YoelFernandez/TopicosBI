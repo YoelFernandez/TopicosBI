{
 "cells": [
  {
   "cell_type": "code",
   "execution_count": null,
   "id": "09476dc2",
   "metadata": {},
   "outputs": [],
   "source": [
    "#VARIABLES\n",
    "text = \"Hello world\""
   ]
  },
  {
   "cell_type": "code",
   "execution_count": 6,
   "id": "5c0acae9",
   "metadata": {},
   "outputs": [],
   "source": [
    "B= 5"
   ]
  },
  {
   "cell_type": "code",
   "execution_count": 7,
   "id": "74008061",
   "metadata": {},
   "outputs": [
    {
     "name": "stdout",
     "output_type": "stream",
     "text": [
      "Hi world\n"
     ]
    }
   ],
   "source": [
    "#Remplazando string \n",
    "text = \"Hello world\"\n",
    "text = text.replace(\"Hello\", \"Hi\")\n",
    "print(text)\n"
   ]
  },
  {
   "cell_type": "code",
   "execution_count": null,
   "id": "8c379099",
   "metadata": {},
   "outputs": [
    {
     "data": {
      "text/plain": [
       "0"
      ]
     },
     "execution_count": 17,
     "metadata": {},
     "output_type": "execute_result"
    }
   ],
   "source": [
    "# Encontrar posicion String\n",
    "text = \"Hello world\"\n",
    "text.index(\"w\") \n",
    "text.find(\"H\")"
   ]
  },
  {
   "cell_type": "code",
   "execution_count": 19,
   "id": "e9cae6cf",
   "metadata": {},
   "outputs": [
    {
     "data": {
      "text/plain": [
       "7"
      ]
     },
     "execution_count": 19,
     "metadata": {},
     "output_type": "execute_result"
    }
   ],
   "source": [
    "text.index('o', 6)  # Arroja error"
   ]
  },
  {
   "cell_type": "code",
   "execution_count": 20,
   "id": "5b7d7264",
   "metadata": {},
   "outputs": [
    {
     "data": {
      "text/plain": [
       "'H'"
      ]
     },
     "execution_count": 20,
     "metadata": {},
     "output_type": "execute_result"
    }
   ],
   "source": [
    "# Parte de un string\n",
    "text[0]"
   ]
  },
  {
   "cell_type": "code",
   "execution_count": 21,
   "id": "84730d4b",
   "metadata": {},
   "outputs": [
    {
     "data": {
      "text/plain": [
       "'l'"
      ]
     },
     "execution_count": 21,
     "metadata": {},
     "output_type": "execute_result"
    }
   ],
   "source": [
    "text[-2]"
   ]
  },
  {
   "cell_type": "code",
   "execution_count": 26,
   "id": "bda35350",
   "metadata": {},
   "outputs": [
    {
     "data": {
      "text/plain": [
       "'o worl'"
      ]
     },
     "execution_count": 26,
     "metadata": {},
     "output_type": "execute_result"
    }
   ],
   "source": [
    "# hello world\n",
    "# 012345678910\n",
    "text[4:-1]"
   ]
  },
  {
   "cell_type": "code",
   "execution_count": 24,
   "id": "07d7af15",
   "metadata": {},
   "outputs": [
    {
     "data": {
      "text/plain": [
       "'olleH'"
      ]
     },
     "execution_count": 24,
     "metadata": {},
     "output_type": "execute_result"
    }
   ],
   "source": [
    "text[4::-1]"
   ]
  },
  {
   "cell_type": "code",
   "execution_count": 25,
   "id": "d1917872",
   "metadata": {},
   "outputs": [
    {
     "data": {
      "text/plain": [
       "'dlrow olleH'"
      ]
     },
     "execution_count": 25,
     "metadata": {},
     "output_type": "execute_result"
    }
   ],
   "source": [
    "text[::-1]"
   ]
  },
  {
   "cell_type": "code",
   "execution_count": 30,
   "id": "2c79df74",
   "metadata": {},
   "outputs": [
    {
     "data": {
      "text/plain": [
       "'00)Hello world'"
      ]
     },
     "execution_count": 30,
     "metadata": {},
     "output_type": "execute_result"
    }
   ],
   "source": [
    "# Llamada a una cadena\n",
    "text1 = \"(00)Hello world)\"\n",
    "text1.strip('(), ')"
   ]
  },
  {
   "cell_type": "code",
   "execution_count": null,
   "id": "1d483ccf",
   "metadata": {},
   "outputs": [
    {
     "data": {
      "text/plain": [
       "'Hola   Yoel Fernandezl       , este es el curso Topicos Especiales de BI'"
      ]
     },
     "execution_count": 48,
     "metadata": {},
     "output_type": "execute_result"
    }
   ],
   "source": [
    "nombre = \"Yoel Fernandez\"\n",
    "curso = \"Topicos Especiales de BI\"\n",
    "f'Hola {nombre}, este es el curso {curso}'"
   ]
  },
  {
   "cell_type": "code",
   "execution_count": 43,
   "id": "837a9615",
   "metadata": {},
   "outputs": [
    {
     "data": {
      "text/plain": [
       "True"
      ]
     },
     "execution_count": 43,
     "metadata": {},
     "output_type": "execute_result"
    }
   ],
   "source": [
    "numero = \"5\"\n",
    "texto = \"El numero es: \"\n",
    "numero.isalnum()"
   ]
  },
  {
   "cell_type": "code",
   "execution_count": 33,
   "id": "32303e81",
   "metadata": {},
   "outputs": [
    {
     "data": {
      "text/plain": [
       "'ABCDEFGHIJKLMNOPQRSTUVWXYZ'"
      ]
     },
     "execution_count": 33,
     "metadata": {},
     "output_type": "execute_result"
    }
   ],
   "source": [
    "import string \n",
    "string.ascii_lowercase\n",
    "string.ascii_uppercase"
   ]
  },
  {
   "cell_type": "code",
   "execution_count": 34,
   "id": "8aa0fb39",
   "metadata": {},
   "outputs": [
    {
     "data": {
      "text/plain": [
       "'abcdefghijklmnopqrstuvwxyzABCDEFGHIJKLMNOPQRSTUVWXYZ'"
      ]
     },
     "execution_count": 34,
     "metadata": {},
     "output_type": "execute_result"
    }
   ],
   "source": [
    "string.ascii_letters"
   ]
  },
  {
   "cell_type": "code",
   "execution_count": 40,
   "id": "ba625681",
   "metadata": {},
   "outputs": [
    {
     "data": {
      "text/plain": [
       "True"
      ]
     },
     "execution_count": 40,
     "metadata": {},
     "output_type": "execute_result"
    }
   ],
   "source": [
    "#Otras opreciones\n",
    "string_1= \"Hello wordl\"\n",
    "string_2= \"5\"\n",
    "string_3 = \"cinco\"\n",
    "string_1.isdigit()\n",
    "string_2.isdigit()\n",
    "string_1.isalpha()\n",
    "string_3.isalpha()\n",
    "import string\n",
    "string.ascii_lowercase\n",
    "\n",
    "string.ascii_uppercase\n",
    "string.ascii_letters\n",
    "string_1.isalnum()\n",
    "string_2.isalnum()"
   ]
  },
  {
   "cell_type": "markdown",
   "id": "72c055b8",
   "metadata": {},
   "source": [
    "# 3. Funcion print"
   ]
  },
  {
   "cell_type": "code",
   "execution_count": 46,
   "id": "da861b8b",
   "metadata": {},
   "outputs": [
    {
     "name": "stdout",
     "output_type": "stream",
     "text": [
      "<class 'int'>\n",
      "<class 'str'>\n",
      "<class 'float'>\n"
     ]
    }
   ],
   "source": [
    " # Saber el tipo de dato\n",
    "numero = 5\n",
    "print(type(numero))\n",
    "string = \"Hello world\"\n",
    "print(type(string))\n",
    "flotante = 5.5\n",
    "print(type(flotante))\n"
   ]
  },
  {
   "cell_type": "code",
   "execution_count": 49,
   "id": "42e9f26f",
   "metadata": {},
   "outputs": [
    {
     "name": "stdout",
     "output_type": "stream",
     "text": [
      "mi nombre es,    Yoel Fernandezl       \n"
     ]
    }
   ],
   "source": [
    "print(\"mi nombre es, \", nombre)"
   ]
  },
  {
   "cell_type": "code",
   "execution_count": 50,
   "id": "8e03ec94",
   "metadata": {},
   "outputs": [
    {
     "name": "stdout",
     "output_type": "stream",
     "text": [
      "mi nombre es   Yoel Fernandezl       \n"
     ]
    }
   ],
   "source": [
    "print(f'mi nombre es {nombre}')"
   ]
  },
  {
   "cell_type": "code",
   "execution_count": 55,
   "id": "d50e3b41",
   "metadata": {},
   "outputs": [
    {
     "name": "stdout",
     "output_type": "stream",
     "text": [
      "Los datos del curso son:\n",
      "Nombre\t\t:Topicos Especiales de BI\n",
      "Ciclo\t\t: Sexxto\n",
      "Tipo del curso \t: Electivo\n"
     ]
    }
   ],
   "source": [
    "print(\"Los datos del curso son:\\nNombre\\t\\t:Topicos Especiales de BI\\nCiclo\\t\\t: Sexxto\\nTipo del curso \\t: Electivo\")\n"
   ]
  },
  {
   "cell_type": "code",
   "execution_count": 56,
   "id": "9ca08ec0",
   "metadata": {},
   "outputs": [
    {
     "name": "stdout",
     "output_type": "stream",
     "text": [
      "Los datos del curso son:\\nNombre\\t\\t:Topicos Especiales de BI\\nCiclo\\t\\t: Sexxto\\nTipo del curso \\t: Electivo\n"
     ]
    }
   ],
   "source": [
    "print(r\"Los datos del curso son:\\nNombre\\t\\t:Topicos Especiales de BI\\nCiclo\\t\\t: Sexxto\\nTipo del curso \\t: Electivo\")\n"
   ]
  },
  {
   "cell_type": "markdown",
   "id": "009bfe4c",
   "metadata": {},
   "source": [
    "# 4. Boleanos y condicionales"
   ]
  },
  {
   "cell_type": "code",
   "execution_count": 65,
   "id": "eac4d6aa",
   "metadata": {},
   "outputs": [
    {
     "name": "stdout",
     "output_type": "stream",
     "text": [
      "<class 'bool'>\n"
     ]
    }
   ],
   "source": [
    "final_page= True\n",
    "print(type(final_page))"
   ]
  },
  {
   "cell_type": "code",
   "execution_count": null,
   "id": "de501f99",
   "metadata": {},
   "outputs": [
    {
     "name": "stdout",
     "output_type": "stream",
     "text": [
      "Es la ultima pagina\n",
      "Es la ultima pagina\n"
     ]
    }
   ],
   "source": [
    "if final_page == True:\n",
    "    print(\"Es la ultima pagina\")\n",
    "\n",
    "if final_page:\n",
    "    print(\"Es la ultima pagina\")\n"
   ]
  },
  {
   "cell_type": "code",
   "execution_count": null,
   "id": "29411c1c",
   "metadata": {},
   "outputs": [],
   "source": [
    "final_page = False\n",
    "if final_page != True:\n",
    "    print(\"No es la ultima pagina\")\n",
    "\n",
    "if not final_page:\n",
    "    print(\"No es la ultima pagina\")"
   ]
  },
  {
   "cell_type": "code",
   "execution_count": 68,
   "id": "2c9a029e",
   "metadata": {},
   "outputs": [
    {
     "name": "stdout",
     "output_type": "stream",
     "text": [
      "False\n"
     ]
    }
   ],
   "source": [
    "print(bool())"
   ]
  },
  {
   "cell_type": "code",
   "execution_count": null,
   "id": "ed5a2d91",
   "metadata": {},
   "outputs": [
    {
     "name": "stdout",
     "output_type": "stream",
     "text": [
      "Booleano para '' False\n"
     ]
    }
   ],
   "source": [
    "print(f\"Booleano para '': {bool('')}\")"
   ]
  },
  {
   "cell_type": "code",
   "execution_count": 70,
   "id": "8e52743e",
   "metadata": {},
   "outputs": [
    {
     "name": "stdout",
     "output_type": "stream",
     "text": [
      "Booleano para '': True\n"
     ]
    }
   ],
   "source": [
    "print(f\"Booleano para '': {bool(' ')}\")"
   ]
  },
  {
   "cell_type": "code",
   "execution_count": 71,
   "id": "cf8c75dd",
   "metadata": {},
   "outputs": [
    {
     "name": "stdout",
     "output_type": "stream",
     "text": [
      "Booleano para []: False\n"
     ]
    }
   ],
   "source": [
    "print(f\"Booleano para []: {bool([])}\")"
   ]
  },
  {
   "cell_type": "code",
   "execution_count": 76,
   "id": "2bfa8c68",
   "metadata": {},
   "outputs": [
    {
     "name": "stdout",
     "output_type": "stream",
     "text": [
      "Booleano para { }: False\n"
     ]
    }
   ],
   "source": [
    "print(f\"Booleano para {'{ }'}: {bool({ })}\")"
   ]
  },
  {
   "cell_type": "code",
   "execution_count": 79,
   "id": "2ccfccf7",
   "metadata": {},
   "outputs": [
    {
     "name": "stdout",
     "output_type": "stream",
     "text": [
      "Booleano para 0: False\n"
     ]
    }
   ],
   "source": [
    "print(f\"Booleano para {0}: {bool(0)}\")"
   ]
  },
  {
   "cell_type": "code",
   "execution_count": 80,
   "id": "3a9acaa3",
   "metadata": {},
   "outputs": [
    {
     "name": "stdout",
     "output_type": "stream",
     "text": [
      "Booleano para 1: True\n"
     ]
    }
   ],
   "source": [
    "print(f\"Booleano para {1}: {bool(1)}\")"
   ]
  },
  {
   "cell_type": "code",
   "execution_count": 82,
   "id": "2b213d16",
   "metadata": {},
   "outputs": [
    {
     "name": "stdout",
     "output_type": "stream",
     "text": [
      "Booleano para 'hola': True\n"
     ]
    }
   ],
   "source": [
    "print(f\"Booleano para 'hola': {bool('hola')}\")"
   ]
  },
  {
   "cell_type": "code",
   "execution_count": 81,
   "id": "2ea92de9",
   "metadata": {},
   "outputs": [
    {
     "name": "stdout",
     "output_type": "stream",
     "text": [
      "Booleano para ['hola']: True\n"
     ]
    }
   ],
   "source": [
    "print(f\"Booleano para ['hola']: {bool(['hola'])}\")"
   ]
  },
  {
   "cell_type": "code",
   "execution_count": null,
   "id": "b85d85a3",
   "metadata": {},
   "outputs": [
    {
     "name": "stdout",
     "output_type": "stream",
     "text": [
      "Booleano para '': True\n",
      "Booleano para []: False\n",
      "Booleano para { }: False\n",
      "Booleano para 0: False\n",
      "Booleano para 1: True\n",
      "Booleano para 'hola': True\n",
      "Booleano para ['hola']: True\n"
     ]
    }
   ],
   "source": [
    "print(f\"Booleano para '': {bool(' ')}\")\n",
    "print(f\"Booleano para []: {bool([])}\")\n",
    "print(f\"Booleano para {'{ }'}: {bool({ })}\")\n",
    "print(f\"Booleano para {0}: {bool(0)}\")\n",
    "print(f\"Booleano para {1}: {bool(1)}\")\n",
    "print(f\"Booleano para 'hola': {bool('hola')}\")\n",
    "print(f\"Booleano para ['hola']: {bool(['hola'])}\")"
   ]
  },
  {
   "cell_type": "code",
   "execution_count": 84,
   "id": "0adb78ae",
   "metadata": {},
   "outputs": [
    {
     "data": {
      "text/plain": [
       "True"
      ]
     },
     "execution_count": 84,
     "metadata": {},
     "output_type": "execute_result"
    }
   ],
   "source": [
    "not False"
   ]
  },
  {
   "cell_type": "code",
   "execution_count": null,
   "id": "0f7a7df8",
   "metadata": {},
   "outputs": [],
   "source": [
    "True and True"
   ]
  },
  {
   "cell_type": "code",
   "execution_count": 85,
   "id": "6197c003",
   "metadata": {},
   "outputs": [
    {
     "data": {
      "text/plain": [
       "False"
      ]
     },
     "execution_count": 85,
     "metadata": {},
     "output_type": "execute_result"
    }
   ],
   "source": [
    "True and False"
   ]
  },
  {
   "cell_type": "code",
   "execution_count": 86,
   "id": "b7db60e1",
   "metadata": {},
   "outputs": [
    {
     "data": {
      "text/plain": [
       "0"
      ]
     },
     "execution_count": 86,
     "metadata": {},
     "output_type": "execute_result"
    }
   ],
   "source": [
    "0 and 0"
   ]
  },
  {
   "cell_type": "code",
   "execution_count": 87,
   "id": "e4663734",
   "metadata": {},
   "outputs": [
    {
     "data": {
      "text/plain": [
       "0"
      ]
     },
     "execution_count": 87,
     "metadata": {},
     "output_type": "execute_result"
    }
   ],
   "source": [
    "0 and 1"
   ]
  },
  {
   "cell_type": "code",
   "execution_count": 89,
   "id": "42a28714",
   "metadata": {},
   "outputs": [
    {
     "ename": "TypeError",
     "evalue": "'<' not supported between instances of 'int' and 'str'",
     "output_type": "error",
     "traceback": [
      "\u001b[31m---------------------------------------------------------------------------\u001b[39m",
      "\u001b[31mTypeError\u001b[39m                                 Traceback (most recent call last)",
      "\u001b[36mCell\u001b[39m\u001b[36m \u001b[39m\u001b[32mIn[89]\u001b[39m\u001b[32m, line 1\u001b[39m\n\u001b[32m----> \u001b[39m\u001b[32m1\u001b[39m \u001b[32;43m1\u001b[39;49m\u001b[43m<\u001b[49m\u001b[43m \u001b[49m\u001b[33;43m'\u001b[39;49m\u001b[33;43muno\u001b[39;49m\u001b[33;43m'\u001b[39;49m\n",
      "\u001b[31mTypeError\u001b[39m: '<' not supported between instances of 'int' and 'str'"
     ]
    }
   ],
   "source": [
    "1< 'uno'"
   ]
  },
  {
   "cell_type": "code",
   "execution_count": 90,
   "id": "43dfebc1",
   "metadata": {},
   "outputs": [
    {
     "data": {
      "text/plain": [
       "False"
      ]
     },
     "execution_count": 90,
     "metadata": {},
     "output_type": "execute_result"
    }
   ],
   "source": [
    "1<True"
   ]
  }
 ],
 "metadata": {
  "kernelspec": {
   "display_name": "myenv",
   "language": "python",
   "name": "python3"
  },
  "language_info": {
   "codemirror_mode": {
    "name": "ipython",
    "version": 3
   },
   "file_extension": ".py",
   "mimetype": "text/x-python",
   "name": "python",
   "nbconvert_exporter": "python",
   "pygments_lexer": "ipython3",
   "version": "3.13.2"
  }
 },
 "nbformat": 4,
 "nbformat_minor": 5
}
